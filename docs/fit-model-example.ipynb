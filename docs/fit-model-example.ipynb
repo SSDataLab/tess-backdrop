{
 "cells": [
  {
   "cell_type": "markdown",
   "id": "b7b9a99e-fdb8-4ca2-97c3-ea32507a7fb9",
   "metadata": {},
   "source": [
    "# Example: Making `tess-backdrop` weight files\n",
    "\n",
    "`tess-backdrop` works by creating \"weight\" files. These small files contain the weights of the coefficients for the model, at every time. In this notebook, we'll show how to make one of those weight files.\n",
    "\n",
    "For this, you'll need access to a stack of TESS FFIs. You'll also need to be on a machine with enough memory to make the design matrices involved in creating a backdrop. So long as you have >4Gb of memory, this shouldn't be an issue. "
   ]
  },
  {
   "cell_type": "code",
   "execution_count": 6,
   "id": "114f0a8a-e680-4cf7-b30f-c6cdeb5c48f6",
   "metadata": {},
   "outputs": [],
   "source": [
    "import tess_backdrop as tbd"
   ]
  },
  {
   "cell_type": "markdown",
   "id": "86060e1a-eacf-4016-9ae9-55edd2302c4a",
   "metadata": {},
   "source": [
    "In this cell, we're just getting a stack of FFIs for `tess-backdrop` to work with. "
   ]
  },
  {
   "cell_type": "code",
   "execution_count": 7,
   "id": "a54baa5c-e47f-45f6-8fc8-abb1ba4b93cd",
   "metadata": {},
   "outputs": [],
   "source": [
    "from glob import glob\n",
    "import numpy as np\n",
    "\n",
    "# This is a set of files I have locally\n",
    "fnames = glob('/Volumes/Nibelheim/tess/sector01/camera01/ccd03/*')\n",
    "fnames = np.sort(fnames)"
   ]
  },
  {
   "cell_type": "markdown",
   "id": "872dccff-96e7-443b-a2bd-1a94e8c0cc6d",
   "metadata": {},
   "source": [
    "Now we're going to make a `BackDrop` object. In other tutorials, we've used this object before. But in previous cases, we've never given `tess-backdrop` FFI files, and we haven't asked it to fit a model. This is what we're going to do below!\n",
    "\n",
    "Here we're using the default parameters, but you can tune them to your use case if you like. In particular, changing the `nknots` parameter will increase the spatial resolution of the spline, but be careful, as this might lead to overfitting.\n",
    "\n",
    "In this example, I'm going to fit 500 FFI files, but you can fit as many as you have or as many as you need. "
   ]
  },
  {
   "cell_type": "code",
   "execution_count": 66,
   "id": "e68d1a7e-598c-41d4-87a1-b2b0d3b9b27d",
   "metadata": {},
   "outputs": [],
   "source": [
    "b = tbd.BackDrop(fnames=fnames[:500])"
   ]
  },
  {
   "cell_type": "code",
   "execution_count": null,
   "id": "5090e7f1-407d-46ec-8883-0fd3df24a0d8",
   "metadata": {},
   "outputs": [],
   "source": [
    "%%time\n",
    "b.fit_model()"
   ]
  },
  {
   "cell_type": "markdown",
   "id": "308b8265-8466-4bb4-a1dd-b7e23371ef48",
   "metadata": {},
   "source": [
    "Now we've fit a model to a few frames, let's take a look at it! We can look at the weights of each model component if we like"
   ]
  },
  {
   "cell_type": "code",
   "execution_count": null,
   "id": "611f2cb2-1175-4e5c-9862-75f2b44191de",
   "metadata": {},
   "outputs": [],
   "source": [
    "b.poly_w.shape"
   ]
  },
  {
   "cell_type": "code",
   "execution_count": null,
   "id": "a2ba310f-aa5b-4e9b-bc28-639e1fab7f06",
   "metadata": {},
   "outputs": [],
   "source": [
    "b.spline_w.shape"
   ]
  },
  {
   "cell_type": "code",
   "execution_count": null,
   "id": "004f0b49-7c8e-4453-8faa-a861e8f04e9b",
   "metadata": {},
   "outputs": [],
   "source": [
    "b.strap_w.shape"
   ]
  },
  {
   "cell_type": "markdown",
   "id": "306f19ea-e86f-42c8-98a1-815eabb7307c",
   "metadata": {},
   "source": [
    "We have passed 500 files, which is why all the weight components have a shape in the first axis of 500. Then we have 29 total polynomial coefficients, 40 x 40 spline coefficients, and 2048 strap coefficients. Great!\n",
    "\n",
    "We can save these coefficients to a file if we like. I'm specifying the output here, but if you don't specify anything these files will get saved to your `tess-backdrop` package directory."
   ]
  },
  {
   "cell_type": "code",
   "execution_count": null,
   "id": "8b242e08-e1cb-4eeb-b044-4b76c1e50b6e",
   "metadata": {},
   "outputs": [],
   "source": [
    "b.save(output_dir='')"
   ]
  },
  {
   "cell_type": "markdown",
   "id": "04463c77-68ff-4743-bd81-58c463a39a4d",
   "metadata": {},
   "source": [
    "Here's a break down of the files that got made, and how large they are"
   ]
  },
  {
   "cell_type": "code",
   "execution_count": null,
   "id": "ad9e03ac-6cbf-47ef-b4b3-2e7af50d44f7",
   "metadata": {},
   "outputs": [],
   "source": [
    "!du -sh tessbackdrop*"
   ]
  },
  {
   "cell_type": "markdown",
   "id": "1c14227d-6bd8-4cb9-b341-148d40a09d42",
   "metadata": {},
   "source": [
    "Firstly, we've made a `masks` file. We can take a look at that file here:"
   ]
  },
  {
   "cell_type": "code",
   "execution_count": null,
   "id": "f438609b-ecd6-499c-9eab-6724388ae31e",
   "metadata": {},
   "outputs": [],
   "source": [
    "from astropy.io import fits\n",
    "fits.open('tessbackdrop_masks_sector1_camera1_ccd3.fits').info()"
   ]
  },
  {
   "cell_type": "markdown",
   "id": "9e0225c0-7cce-4d4a-b22d-8543e12fee53",
   "metadata": {},
   "source": [
    "This file contains a mask which shows you which stars have been automatically masked, and which pixels have been masked due to saturation. It also contains the average image of the stack. \n",
    "\n",
    "More interesting to you may be the weights file"
   ]
  },
  {
   "cell_type": "code",
   "execution_count": null,
   "id": "8f869216-824c-4fbd-b88e-737eba84445c",
   "metadata": {},
   "outputs": [],
   "source": [
    "fits.open('tessbackdrop_sector1_camera1_ccd3.fits').info()"
   ]
  },
  {
   "cell_type": "markdown",
   "id": "6e5c47ba-ea83-4e95-bcb6-1c9f4a412578",
   "metadata": {},
   "source": [
    "In this file we have all the information `tess-backdrop` needs to make the background model at any pixel, at any time. You can see the spline, strap and polynomial weights are embedded in this file. \n",
    "\n",
    "There are two other files that `tess-backdrop` has made which describe the jitter noise. There are two files, the `jitter_components` file, which is quite small. Let's take a look"
   ]
  },
  {
   "cell_type": "code",
   "execution_count": null,
   "id": "c757fc29-1c28-4b4e-afdd-fba8dcd10fc5",
   "metadata": {},
   "outputs": [],
   "source": [
    "fits.open('tessbackdrop_jitter_components_sector1_camera1_ccd3.fits').info()"
   ]
  },
  {
   "cell_type": "markdown",
   "id": "6de65c25-61e2-4664-a68d-3799a301b453",
   "metadata": {},
   "source": [
    "This contains just the top PCA components of the jitter noise. This is what `tess-backdrop` will use to fit out the jitter in your images.\n",
    "\n",
    "If you want to see the jitter in more detail, you can look at the larger `jitter` file, which contains all of the test pixels `tess-backdrop` used to estimate the jitter."
   ]
  },
  {
   "cell_type": "code",
   "execution_count": null,
   "id": "e5308ca8-b8fb-4138-9813-c2f4b89fd288",
   "metadata": {},
   "outputs": [],
   "source": [
    "fits.open('tessbackdrop_jitter_sector1_camera1_ccd3.fits').info()"
   ]
  },
  {
   "cell_type": "markdown",
   "id": "040d851e-b858-4edb-8349-9b92d1028393",
   "metadata": {},
   "source": [
    "By default `tess-backdrop` uses 5000 pixels as \"test\" pixels to assess the jitter. You can see those 5000 light curves in this \n",
    "file. You might not care about this light curves, you're most likely to want to use the jitter components.\n",
    "\n",
    "Now that we know what `tess-backdrop` is doing, let's take a look at the model it's made. "
   ]
  },
  {
   "cell_type": "code",
   "execution_count": null,
   "id": "f806a5cb-bbcf-44de-a459-f173a89343cf",
   "metadata": {},
   "outputs": [],
   "source": [
    "import matplotlib.pyplot as plt\n",
    "plt.style.use('seaborn-white')\n",
    "\n",
    "# These are the columns and rows we'll evaluate the model at\n",
    "# We're evaluating it on a coarse grid, but we can do any grid we like\n",
    "column, row = np.arange(0, 2048, 10), np.arange(0, 2048, 10)\n",
    "\n",
    "# Here we evaluate the model at the first time, and plot it\n",
    "model = b.build_correction(column, row, 0)[0]\n",
    "plt.pcolormesh(column, row, model, vmin=100, vmax=400);\n",
    "plt.colorbar()\n",
    "plt.gca().set_aspect('equal')"
   ]
  },
  {
   "cell_type": "markdown",
   "id": "173a4dc5-9caa-443d-b203-ee0da895a4d2",
   "metadata": {},
   "source": [
    "We can also evaluate just a small patch."
   ]
  },
  {
   "cell_type": "code",
   "execution_count": null,
   "id": "3b01016d-a3e4-4254-a65d-176044d8b36c",
   "metadata": {},
   "outputs": [],
   "source": [
    "column, row = np.arange(0, 500), np.arange(0, 500)\n",
    "\n",
    "# Here we evaluate the model at the first time, and plot it\n",
    "model = b.build_correction(column, row, 0)[0]\n",
    "plt.pcolormesh(column, row, model, vmin=500, vmax=400);\n",
    "plt.colorbar()\n",
    "plt.gca().set_aspect('equal')"
   ]
  },
  {
   "cell_type": "markdown",
   "id": "37300381-7680-406c-96a9-db88581a6d15",
   "metadata": {},
   "source": [
    "Looks good! Let's take a look at the jitter components. `tess_backdrop` splits the components into short, medium and long term systematics, so if we look at the top three components we'll see the most significant systematics at those time scales:"
   ]
  },
  {
   "cell_type": "code",
   "execution_count": null,
   "id": "e37b9181-99c5-40ca-bb9c-b02740b3ef6f",
   "metadata": {},
   "outputs": [],
   "source": [
    "plt.plot(b.t_start, b.jitter_comps[:, :3], label=['Short Term', 'Medium Term', 'Long Term']);\n",
    "plt.legend()\n",
    "plt.xlabel('Time [BKJD]')\n",
    "plt.ylabel('Normalized Component')"
   ]
  },
  {
   "cell_type": "markdown",
   "id": "8bd29255-c8d1-4656-8b72-ebe898dbcba8",
   "metadata": {},
   "source": [
    "## How should I use this in practice?\n",
    "\n",
    "If you want to make a lot of `tess-backdrop` files, I suggest you do something like this\n",
    "\n",
    "```python\n",
    "import tess-backdrop as tbd\n",
    "fnames = ... # Your tess FFI file names\n",
    "b = tbd.BackDrop(fnames=fnames)\n",
    "b.fit_model()\n",
    "b.save()\n",
    "```\n",
    "\n",
    "And then when you want to use your new files, `tess-backdrop` should load them automatically!"
   ]
  }
 ],
 "metadata": {
  "kernelspec": {
   "display_name": "Python 3",
   "language": "python",
   "name": "python3"
  },
  "language_info": {
   "codemirror_mode": {
    "name": "ipython",
    "version": 3
   },
   "file_extension": ".py",
   "mimetype": "text/x-python",
   "name": "python",
   "nbconvert_exporter": "python",
   "pygments_lexer": "ipython3",
   "version": "3.8.7"
  }
 },
 "nbformat": 4,
 "nbformat_minor": 5
}
